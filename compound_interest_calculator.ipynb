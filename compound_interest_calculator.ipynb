{
 "cells": [
  {
   "cell_type": "code",
   "execution_count": 5,
   "id": "591215ad-be85-44c2-9aab-4e53ea58d7d2",
   "metadata": {},
   "outputs": [
    {
     "name": "stdin",
     "output_type": "stream",
     "text": [
      "Enter the principle amount in $:  8000\n",
      "Enter the time in years:  5\n",
      "Enter the interest rate in %:  1.999\n"
     ]
    },
    {
     "name": "stdout",
     "output_type": "stream",
     "text": [
      "The compound interest will be: $ 8832.213461225578\n"
     ]
    }
   ],
   "source": [
    "principle = float(input(\"Enter the principle amount in $: \"))\n",
    "time = int(input(\"Enter the time in years: \"))\n",
    "interest_rate = float(input(\"Enter the interest rate in %: \"))\n",
    "\n",
    "\n",
    "while principle <= 0:\n",
    "    if principle <= 0:\n",
    "        print(\"Principle should not be equal or less than zero\")\n",
    "        break\n",
    "        \n",
    "\n",
    "while time <= 0:\n",
    "    if time <= 0:\n",
    "        print(\"Time should not be equal or less than zero.\")  \n",
    "        break\n",
    "\n",
    "while interest_rate  <= 0:\n",
    "    if interest_rate <= 0:\n",
    "        print(\"Interest rate should not be equal or less than zero.\")\n",
    "        break\n",
    "        \n",
    "compound_interest = principle * pow((1 + interest_rate/100), time)\n",
    "print(f\"The compound interest will be: $ {compound_interest}\")"
   ]
  },
  {
   "cell_type": "code",
   "execution_count": null,
   "id": "79f6536e-6f04-4230-a4a0-b74053493141",
   "metadata": {},
   "outputs": [],
   "source": []
  }
 ],
 "metadata": {
  "kernelspec": {
   "display_name": "Python 3 (ipykernel)",
   "language": "python",
   "name": "python3"
  },
  "language_info": {
   "codemirror_mode": {
    "name": "ipython",
    "version": 3
   },
   "file_extension": ".py",
   "mimetype": "text/x-python",
   "name": "python",
   "nbconvert_exporter": "python",
   "pygments_lexer": "ipython3",
   "version": "3.13.3"
  }
 },
 "nbformat": 4,
 "nbformat_minor": 5
}
